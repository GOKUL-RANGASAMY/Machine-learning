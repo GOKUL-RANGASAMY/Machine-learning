{
 "cells": [
  {
   "cell_type": "code",
   "execution_count": 1,
   "id": "18434ac8",
   "metadata": {
    "_cell_guid": "b1076dfc-b9ad-4769-8c92-a6c4dae69d19",
    "_uuid": "8f2839f25d086af736a60e9eeb907d3b93b6e0e5",
    "execution": {
     "iopub.execute_input": "2022-10-26T09:18:29.508698Z",
     "iopub.status.busy": "2022-10-26T09:18:29.507761Z",
     "iopub.status.idle": "2022-10-26T09:18:29.527859Z",
     "shell.execute_reply": "2022-10-26T09:18:29.526542Z"
    },
    "papermill": {
     "duration": 0.040245,
     "end_time": "2022-10-26T09:18:29.531351",
     "exception": false,
     "start_time": "2022-10-26T09:18:29.491106",
     "status": "completed"
    },
    "tags": []
   },
   "outputs": [
    {
     "name": "stdout",
     "output_type": "stream",
     "text": [
      "/kaggle/input/students-performance-in-exams/exams.csv\n"
     ]
    }
   ],
   "source": [
    "# This Python 3 environment comes with many helpful analytics libraries installed\n",
    "# It is defined by the kaggle/python Docker image: https://github.com/kaggle/docker-python\n",
    "# For example, here's several helpful packages to load\n",
    "# Input data files are available in the read-only \"../input/\" directory\n",
    "# For example, running this (by clicking run or pressing Shift+Enter) will list all files under the input directory\n",
    "\n",
    "import os\n",
    "for dirname, _, filenames in os.walk('/kaggle/input'):\n",
    "    for filename in filenames:\n",
    "        print(os.path.join(dirname, filename))\n",
    "\n",
    "# You can write up to 20GB to the current directory (/kaggle/working/) that gets preserved as output when you create a version using \"Save & Run All\" \n",
    "# You can also write temporary files to /kaggle/temp/, but they won't be saved outside of the current session"
   ]
  },
  {
   "attachments": {
    "743a3122-f2fd-47a4-8f1e-a62bb2ee68d8.jfif": {
     "image/jpeg": "[encoded data removed]"
    }
   },
   "cell_type": "markdown",
   "id": "3a5602ae",
   "metadata": {
    "papermill": {
     "duration": 0.015196,
     "end_time": "2022-10-26T09:18:29.561154",
     "exception": false,
     "start_time": "2022-10-26T09:18:29.545958",
     "status": "completed"
    },
    "tags": []
   },
   "source": [
    "![exam.jfif](attachment:743a3122-f2fd-47a4-8f1e-a62bb2ee68d8.jfif)"
   ]
  },
  {
   "cell_type": "markdown",
   "id": "953195a9",
   "metadata": {
    "papermill": {
     "duration": 0.015171,
     "end_time": "2022-10-26T09:18:29.589890",
     "exception": false,
     "start_time": "2022-10-26T09:18:29.574719",
     "status": "completed"
    },
    "tags": []
   },
   "source": [
    "> <div class=\"alert alert-block alert-info\">\n",
    "<b></b> <strong>Import Libraries</strong></div>"
   ]
  },
  {
   "cell_type": "code",
   "execution_count": 2,
   "id": "cbf8c6e7",
   "metadata": {
    "execution": {
     "iopub.execute_input": "2022-10-26T09:18:29.624167Z",
     "iopub.status.busy": "2022-10-26T09:18:29.623634Z",
     "iopub.status.idle": "2022-10-26T09:18:30.762775Z",
     "shell.execute_reply": "2022-10-26T09:18:30.761494Z"
    },
    "papermill": {
     "duration": 1.160874,
     "end_time": "2022-10-26T09:18:30.766157",
     "exception": false,
     "start_time": "2022-10-26T09:18:29.605283",
     "status": "completed"
    },
    "tags": []
   },
   "outputs": [],
   "source": [
    "import numpy as np # linear algebra\n",
    "import pandas as pd # data processing, CSV file I/O (e.g. pd.read_csv)\n",
    "import seaborn as sns \n",
    "import matplotlib.pyplot as plt"
   ]
  },
  {
   "cell_type": "markdown",
   "id": "4be75164",
   "metadata": {
    "papermill": {
     "duration": 0.014786,
     "end_time": "2022-10-26T09:18:30.799573",
     "exception": false,
     "start_time": "2022-10-26T09:18:30.784787",
     "status": "completed"
    },
    "tags": []
   },
   "source": [
    "> <div class=\"alert alert-block alert-info\">\n",
    "<b></b> <strong>Data Reading</strong></div>"
   ]
  },
  {
   "cell_type": "code",
   "execution_count": 3,
   "id": "85fbea9d",
   "metadata": {
    "execution": {
     "iopub.execute_input": "2022-10-26T09:18:30.832794Z",
     "iopub.status.busy": "2022-10-26T09:18:30.831976Z",
     "iopub.status.idle": "2022-10-26T09:18:30.869167Z",
     "shell.execute_reply": "2022-10-26T09:18:30.867932Z"
    },
    "papermill": {
     "duration": 0.056617,
     "end_time": "2022-10-26T09:18:30.871887",
     "exception": false,
     "start_time": "2022-10-26T09:18:30.815270",
     "status": "completed"
    },
    "tags": []
   },
   "outputs": [
    {
     "data": {
      "text/html": [
       "<div>\n",
       "<style scoped>\n",
       "    .dataframe tbody tr th:only-of-type {\n",
       "        vertical-align: middle;\n",
       "    }\n",
       "\n",
       "    .dataframe tbody tr th {\n",
       "        vertical-align: top;\n",
       "    }\n",
       "\n",
       "    .dataframe thead th {\n",
       "        text-align: right;\n",
       "    }\n",
       "</style>\n",
       "<table border=\"1\" class=\"dataframe\">\n",
       "  <thead>\n",
       "    <tr style=\"text-align: right;\">\n",
       "      <th></th>\n",
       "      <th>gender</th>\n",
       "      <th>race/ethnicity</th>\n",
       "      <th>parental level of education</th>\n",
       "      <th>lunch</th>\n",
       "      <th>test preparation course</th>\n",
       "      <th>math score</th>\n",
       "      <th>reading score</th>\n",
       "      <th>writing score</th>\n",
       "    </tr>\n",
       "  </thead>\n",
       "  <tbody>\n",
       "    <tr>\n",
       "      <th>0</th>\n",
       "      <td>male</td>\n",
       "      <td>group A</td>\n",
       "      <td>high school</td>\n",
       "      <td>standard</td>\n",
       "      <td>completed</td>\n",
       "      <td>67</td>\n",
       "      <td>67</td>\n",
       "      <td>63</td>\n",
       "    </tr>\n",
       "    <tr>\n",
       "      <th>1</th>\n",
       "      <td>female</td>\n",
       "      <td>group D</td>\n",
       "      <td>some high school</td>\n",
       "      <td>free/reduced</td>\n",
       "      <td>none</td>\n",
       "      <td>40</td>\n",
       "      <td>59</td>\n",
       "      <td>55</td>\n",
       "    </tr>\n",
       "    <tr>\n",
       "      <th>2</th>\n",
       "      <td>male</td>\n",
       "      <td>group E</td>\n",
       "      <td>some college</td>\n",
       "      <td>free/reduced</td>\n",
       "      <td>none</td>\n",
       "      <td>59</td>\n",
       "      <td>60</td>\n",
       "      <td>50</td>\n",
       "    </tr>\n",
       "    <tr>\n",
       "      <th>3</th>\n",
       "      <td>male</td>\n",
       "      <td>group B</td>\n",
       "      <td>high school</td>\n",
       "      <td>standard</td>\n",
       "      <td>none</td>\n",
       "      <td>77</td>\n",
       "      <td>78</td>\n",
       "      <td>68</td>\n",
       "    </tr>\n",
       "    <tr>\n",
       "      <th>4</th>\n",
       "      <td>male</td>\n",
       "      <td>group E</td>\n",
       "      <td>associate's degree</td>\n",
       "      <td>standard</td>\n",
       "      <td>completed</td>\n",
       "      <td>78</td>\n",
       "      <td>73</td>\n",
       "      <td>68</td>\n",
       "    </tr>\n",
       "  </tbody>\n",
       "</table>\n",
       "</div>"
      ],
      "text/plain": [
       "   gender race/ethnicity parental level of education         lunch  \\\n",
       "0    male        group A                 high school      standard   \n",
       "1  female        group D            some high school  free/reduced   \n",
       "2    male        group E                some college  free/reduced   \n",
       "3    male        group B                 high school      standard   \n",
       "4    male        group E          associate's degree      standard   \n",
       "\n",
       "  test preparation course  math score  reading score  writing score  \n",
       "0               completed          67             67             63  \n",
       "1                    none          40             59             55  \n",
       "2                    none          59             60             50  \n",
       "3                    none          77             78             68  \n",
       "4               completed          78             73             68  "
      ]
     },
     "execution_count": 3,
     "metadata": {},
     "output_type": "execute_result"
    }
   ],
   "source": [
    "df= pd.read_csv(\"../input/students-performance-in-exams/exams.csv\")\n",
    "df.head()"
   ]
  },
  {
   "cell_type": "markdown",
   "id": "5e43fb09",
   "metadata": {
    "papermill": {
     "duration": 0.014069,
     "end_time": "2022-10-26T09:18:30.899927",
     "exception": false,
     "start_time": "2022-10-26T09:18:30.885858",
     "status": "completed"
    },
    "tags": []
   },
   "source": [
    "> <div class=\"alert alert-block alert-info\">\n",
    "<b></b> <strong>information about data</strong></div>"
   ]
  },
  {
   "cell_type": "code",
   "execution_count": 4,
   "id": "966b43e5",
   "metadata": {
    "execution": {
     "iopub.execute_input": "2022-10-26T09:18:30.930839Z",
     "iopub.status.busy": "2022-10-26T09:18:30.930117Z",
     "iopub.status.idle": "2022-10-26T09:18:30.943958Z",
     "shell.execute_reply": "2022-10-26T09:18:30.942804Z"
    },
    "papermill": {
     "duration": 0.032633,
     "end_time": "2022-10-26T09:18:30.946514",
     "exception": false,
     "start_time": "2022-10-26T09:18:30.913881",
     "status": "completed"
    },
    "tags": []
   },
   "outputs": [
    {
     "data": {
      "text/html": [
       "<div>\n",
       "<style scoped>\n",
       "    .dataframe tbody tr th:only-of-type {\n",
       "        vertical-align: middle;\n",
       "    }\n",
       "\n",
       "    .dataframe tbody tr th {\n",
       "        vertical-align: top;\n",
       "    }\n",
       "\n",
       "    .dataframe thead th {\n",
       "        text-align: right;\n",
       "    }\n",
       "</style>\n",
       "<table border=\"1\" class=\"dataframe\">\n",
       "  <thead>\n",
       "    <tr style=\"text-align: right;\">\n",
       "      <th></th>\n",
       "      <th>gender</th>\n",
       "      <th>race/ethnicity</th>\n",
       "      <th>parental level of education</th>\n",
       "      <th>lunch</th>\n",
       "      <th>test preparation course</th>\n",
       "      <th>math score</th>\n",
       "      <th>reading score</th>\n",
       "      <th>writing score</th>\n",
       "    </tr>\n",
       "  </thead>\n",
       "  <tbody>\n",
       "    <tr>\n",
       "      <th>995</th>\n",
       "      <td>male</td>\n",
       "      <td>group C</td>\n",
       "      <td>high school</td>\n",
       "      <td>standard</td>\n",
       "      <td>none</td>\n",
       "      <td>73</td>\n",
       "      <td>70</td>\n",
       "      <td>65</td>\n",
       "    </tr>\n",
       "    <tr>\n",
       "      <th>996</th>\n",
       "      <td>male</td>\n",
       "      <td>group D</td>\n",
       "      <td>associate's degree</td>\n",
       "      <td>free/reduced</td>\n",
       "      <td>completed</td>\n",
       "      <td>85</td>\n",
       "      <td>91</td>\n",
       "      <td>92</td>\n",
       "    </tr>\n",
       "    <tr>\n",
       "      <th>997</th>\n",
       "      <td>female</td>\n",
       "      <td>group C</td>\n",
       "      <td>some high school</td>\n",
       "      <td>free/reduced</td>\n",
       "      <td>none</td>\n",
       "      <td>32</td>\n",
       "      <td>35</td>\n",
       "      <td>41</td>\n",
       "    </tr>\n",
       "    <tr>\n",
       "      <th>998</th>\n",
       "      <td>female</td>\n",
       "      <td>group C</td>\n",
       "      <td>some college</td>\n",
       "      <td>standard</td>\n",
       "      <td>none</td>\n",
       "      <td>73</td>\n",
       "      <td>74</td>\n",
       "      <td>82</td>\n",
       "    </tr>\n",
       "    <tr>\n",
       "      <th>999</th>\n",
       "      <td>male</td>\n",
       "      <td>group A</td>\n",
       "      <td>some college</td>\n",
       "      <td>standard</td>\n",
       "      <td>completed</td>\n",
       "      <td>65</td>\n",
       "      <td>60</td>\n",
       "      <td>62</td>\n",
       "    </tr>\n",
       "  </tbody>\n",
       "</table>\n",
       "</div>"
      ],
      "text/plain": [
       "     gender race/ethnicity parental level of education         lunch  \\\n",
       "995    male        group C                 high school      standard   \n",
       "996    male        group D          associate's degree  free/reduced   \n",
       "997  female        group C            some high school  free/reduced   \n",
       "998  female        group C                some college      standard   \n",
       "999    male        group A                some college      standard   \n",
       "\n",
       "    test preparation course  math score  reading score  writing score  \n",
       "995                    none          73             70             65  \n",
       "996               completed          85             91             92  \n",
       "997                    none          32             35             41  \n",
       "998                    none          73             74             82  \n",
       "999               completed          65             60             62  "
      ]
     },
     "execution_count": 4,
     "metadata": {},
     "output_type": "execute_result"
    }
   ],
   "source": [
    "df.tail()"
   ]
  },
  {
   "cell_type": "code",
   "execution_count": 5,
   "id": "39d24d8b",
   "metadata": {
    "execution": {
     "iopub.execute_input": "2022-10-26T09:18:30.976994Z",
     "iopub.status.busy": "2022-10-26T09:18:30.976326Z",
     "iopub.status.idle": "2022-10-26T09:18:31.007243Z",
     "shell.execute_reply": "2022-10-26T09:18:31.005692Z"
    },
    "papermill": {
     "duration": 0.050154,
     "end_time": "2022-10-26T09:18:31.010798",
     "exception": false,
     "start_time": "2022-10-26T09:18:30.960644",
     "status": "completed"
    },
    "tags": []
   },
   "outputs": [
    {
     "data": {
      "text/html": [
       "<div>\n",
       "<style scoped>\n",
       "    .dataframe tbody tr th:only-of-type {\n",
       "        vertical-align: middle;\n",
       "    }\n",
       "\n",
       "    .dataframe tbody tr th {\n",
       "        vertical-align: top;\n",
       "    }\n",
       "\n",
       "    .dataframe thead th {\n",
       "        text-align: right;\n",
       "    }\n",
       "</style>\n",
       "<table border=\"1\" class=\"dataframe\">\n",
       "  <thead>\n",
       "    <tr style=\"text-align: right;\">\n",
       "      <th></th>\n",
       "      <th>math score</th>\n",
       "      <th>reading score</th>\n",
       "      <th>writing score</th>\n",
       "    </tr>\n",
       "  </thead>\n",
       "  <tbody>\n",
       "    <tr>\n",
       "      <th>count</th>\n",
       "      <td>1000.000000</td>\n",
       "      <td>1000.000000</td>\n",
       "      <td>1000.000000</td>\n",
       "    </tr>\n",
       "    <tr>\n",
       "      <th>mean</th>\n",
       "      <td>66.396000</td>\n",
       "      <td>69.002000</td>\n",
       "      <td>67.738000</td>\n",
       "    </tr>\n",
       "    <tr>\n",
       "      <th>std</th>\n",
       "      <td>15.402871</td>\n",
       "      <td>14.737272</td>\n",
       "      <td>15.600985</td>\n",
       "    </tr>\n",
       "    <tr>\n",
       "      <th>min</th>\n",
       "      <td>13.000000</td>\n",
       "      <td>27.000000</td>\n",
       "      <td>23.000000</td>\n",
       "    </tr>\n",
       "    <tr>\n",
       "      <th>25%</th>\n",
       "      <td>56.000000</td>\n",
       "      <td>60.000000</td>\n",
       "      <td>58.000000</td>\n",
       "    </tr>\n",
       "    <tr>\n",
       "      <th>50%</th>\n",
       "      <td>66.500000</td>\n",
       "      <td>70.000000</td>\n",
       "      <td>68.000000</td>\n",
       "    </tr>\n",
       "    <tr>\n",
       "      <th>75%</th>\n",
       "      <td>77.000000</td>\n",
       "      <td>79.000000</td>\n",
       "      <td>79.000000</td>\n",
       "    </tr>\n",
       "    <tr>\n",
       "      <th>max</th>\n",
       "      <td>100.000000</td>\n",
       "      <td>100.000000</td>\n",
       "      <td>100.000000</td>\n",
       "    </tr>\n",
       "  </tbody>\n",
       "</table>\n",
       "</div>"
      ],
      "text/plain": [
       "        math score  reading score  writing score\n",
       "count  1000.000000    1000.000000    1000.000000\n",
       "mean     66.396000      69.002000      67.738000\n",
       "std      15.402871      14.737272      15.600985\n",
       "min      13.000000      27.000000      23.000000\n",
       "25%      56.000000      60.000000      58.000000\n",
       "50%      66.500000      70.000000      68.000000\n",
       "75%      77.000000      79.000000      79.000000\n",
       "max     100.000000     100.000000     100.000000"
      ]
     },
     "execution_count": 5,
     "metadata": {},
     "output_type": "execute_result"
    }
   ],
   "source": [
    "df.describe()"
   ]
  },
  {
   "cell_type": "code",
   "execution_count": 6,
   "id": "d795350e",
   "metadata": {
    "execution": {
     "iopub.execute_input": "2022-10-26T09:18:31.041651Z",
     "iopub.status.busy": "2022-10-26T09:18:31.041176Z",
     "iopub.status.idle": "2022-10-26T09:18:31.049576Z",
     "shell.execute_reply": "2022-10-26T09:18:31.048652Z"
    },
    "papermill": {
     "duration": 0.025991,
     "end_time": "2022-10-26T09:18:31.051622",
     "exception": false,
     "start_time": "2022-10-26T09:18:31.025631",
     "status": "completed"
    },
    "tags": []
   },
   "outputs": [
    {
     "data": {
      "text/plain": [
       "gender                         object\n",
       "race/ethnicity                 object\n",
       "parental level of education    object\n",
       "lunch                          object\n",
       "test preparation course        object\n",
       "math score                      int64\n",
       "reading score                   int64\n",
       "writing score                   int64\n",
       "dtype: object"
      ]
     },
     "execution_count": 6,
     "metadata": {},
     "output_type": "execute_result"
    }
   ],
   "source": [
    "df.dtypes"
   ]
  },
  {
   "cell_type": "code",
   "execution_count": 7,
   "id": "625f63a7",
   "metadata": {
    "execution": {
     "iopub.execute_input": "2022-10-26T09:18:31.082946Z",
     "iopub.status.busy": "2022-10-26T09:18:31.082235Z",
     "iopub.status.idle": "2022-10-26T09:18:31.100926Z",
     "shell.execute_reply": "2022-10-26T09:18:31.099521Z"
    },
    "papermill": {
     "duration": 0.037144,
     "end_time": "2022-10-26T09:18:31.103596",
     "exception": false,
     "start_time": "2022-10-26T09:18:31.066452",
     "status": "completed"
    },
    "tags": []
   },
   "outputs": [
    {
     "name": "stdout",
     "output_type": "stream",
     "text": [
      "<class 'pandas.core.frame.DataFrame'>\n",
      "RangeIndex: 1000 entries, 0 to 999\n",
      "Data columns (total 8 columns):\n",
      " #   Column                       Non-Null Count  Dtype \n",
      "---  ------                       --------------  ----- \n",
      " 0   gender                       1000 non-null   object\n",
      " 1   race/ethnicity               1000 non-null   object\n",
      " 2   parental level of education  1000 non-null   object\n",
      " 3   lunch                        1000 non-null   object\n",
      " 4   test preparation course      1000 non-null   object\n",
      " 5   math score                   1000 non-null   int64 \n",
      " 6   reading score                1000 non-null   int64 \n",
      " 7   writing score                1000 non-null   int64 \n",
      "dtypes: int64(3), object(5)\n",
      "memory usage: 62.6+ KB\n"
     ]
    }
   ],
   "source": [
    "df.info()"
   ]
  },
  {
   "cell_type": "code",
   "execution_count": 8,
   "id": "135a4604",
   "metadata": {
    "execution": {
     "iopub.execute_input": "2022-10-26T09:18:31.136892Z",
     "iopub.status.busy": "2022-10-26T09:18:31.136474Z",
     "iopub.status.idle": "2022-10-26T09:18:31.146334Z",
     "shell.execute_reply": "2022-10-26T09:18:31.144992Z"
    },
    "papermill": {
     "duration": 0.029658,
     "end_time": "2022-10-26T09:18:31.148794",
     "exception": false,
     "start_time": "2022-10-26T09:18:31.119136",
     "status": "completed"
    },
    "tags": []
   },
   "outputs": [
    {
     "data": {
      "text/plain": [
       "gender                         0\n",
       "race/ethnicity                 0\n",
       "parental level of education    0\n",
       "lunch                          0\n",
       "test preparation course        0\n",
       "math score                     0\n",
       "reading score                  0\n",
       "writing score                  0\n",
       "dtype: int64"
      ]
     },
     "execution_count": 8,
     "metadata": {},
     "output_type": "execute_result"
    }
   ],
   "source": [
    "df.isnull().sum()"
   ]
  },
  {
   "cell_type": "code",
   "execution_count": 9,
   "id": "47eb6d60",
   "metadata": {
    "execution": {
     "iopub.execute_input": "2022-10-26T09:18:31.180151Z",
     "iopub.status.busy": "2022-10-26T09:18:31.179301Z",
     "iopub.status.idle": "2022-10-26T09:18:31.187223Z",
     "shell.execute_reply": "2022-10-26T09:18:31.185929Z"
    },
    "papermill": {
     "duration": 0.026525,
     "end_time": "2022-10-26T09:18:31.189877",
     "exception": false,
     "start_time": "2022-10-26T09:18:31.163352",
     "status": "completed"
    },
    "tags": []
   },
   "outputs": [
    {
     "data": {
      "text/plain": [
       "(1000, 8)"
      ]
     },
     "execution_count": 9,
     "metadata": {},
     "output_type": "execute_result"
    }
   ],
   "source": [
    "df.shape"
   ]
  },
  {
   "cell_type": "code",
   "execution_count": 10,
   "id": "1d3e5c9b",
   "metadata": {
    "execution": {
     "iopub.execute_input": "2022-10-26T09:18:31.221900Z",
     "iopub.status.busy": "2022-10-26T09:18:31.221458Z",
     "iopub.status.idle": "2022-10-26T09:18:31.229101Z",
     "shell.execute_reply": "2022-10-26T09:18:31.227898Z"
    },
    "papermill": {
     "duration": 0.026996,
     "end_time": "2022-10-26T09:18:31.231548",
     "exception": false,
     "start_time": "2022-10-26T09:18:31.204552",
     "status": "completed"
    },
    "tags": []
   },
   "outputs": [
    {
     "data": {
      "text/plain": [
       "Index(['gender', 'race/ethnicity', 'parental level of education', 'lunch',\n",
       "       'test preparation course', 'math score', 'reading score',\n",
       "       'writing score'],\n",
       "      dtype='object')"
      ]
     },
     "execution_count": 10,
     "metadata": {},
     "output_type": "execute_result"
    }
   ],
   "source": [
    "df.columns"
   ]
  },
  {
   "cell_type": "code",
   "execution_count": 11,
   "id": "b9f0e006",
   "metadata": {
    "execution": {
     "iopub.execute_input": "2022-10-26T09:18:31.263651Z",
     "iopub.status.busy": "2022-10-26T09:18:31.263196Z",
     "iopub.status.idle": "2022-10-26T09:18:31.277623Z",
     "shell.execute_reply": "2022-10-26T09:18:31.276296Z"
    },
    "papermill": {
     "duration": 0.033842,
     "end_time": "2022-10-26T09:18:31.280283",
     "exception": false,
     "start_time": "2022-10-26T09:18:31.246441",
     "status": "completed"
    },
    "tags": []
   },
   "outputs": [
    {
     "data": {
      "text/html": [
       "<div>\n",
       "<style scoped>\n",
       "    .dataframe tbody tr th:only-of-type {\n",
       "        vertical-align: middle;\n",
       "    }\n",
       "\n",
       "    .dataframe tbody tr th {\n",
       "        vertical-align: top;\n",
       "    }\n",
       "\n",
       "    .dataframe thead th {\n",
       "        text-align: right;\n",
       "    }\n",
       "</style>\n",
       "<table border=\"1\" class=\"dataframe\">\n",
       "  <thead>\n",
       "    <tr style=\"text-align: right;\">\n",
       "      <th></th>\n",
       "      <th>gender</th>\n",
       "      <th>race/ethnicity</th>\n",
       "      <th>parental level of education</th>\n",
       "      <th>lunch</th>\n",
       "      <th>test preparation course</th>\n",
       "      <th>math score</th>\n",
       "      <th>reading score</th>\n",
       "      <th>writing score</th>\n",
       "    </tr>\n",
       "  </thead>\n",
       "  <tbody>\n",
       "    <tr>\n",
       "      <th>0</th>\n",
       "      <td>male</td>\n",
       "      <td>group A</td>\n",
       "      <td>high school</td>\n",
       "      <td>standard</td>\n",
       "      <td>completed</td>\n",
       "      <td>67</td>\n",
       "      <td>67</td>\n",
       "      <td>63</td>\n",
       "    </tr>\n",
       "    <tr>\n",
       "      <th>1</th>\n",
       "      <td>female</td>\n",
       "      <td>group D</td>\n",
       "      <td>some high school</td>\n",
       "      <td>free/reduced</td>\n",
       "      <td>none</td>\n",
       "      <td>40</td>\n",
       "      <td>59</td>\n",
       "      <td>55</td>\n",
       "    </tr>\n",
       "    <tr>\n",
       "      <th>2</th>\n",
       "      <td>male</td>\n",
       "      <td>group E</td>\n",
       "      <td>some college</td>\n",
       "      <td>free/reduced</td>\n",
       "      <td>none</td>\n",
       "      <td>59</td>\n",
       "      <td>60</td>\n",
       "      <td>50</td>\n",
       "    </tr>\n",
       "    <tr>\n",
       "      <th>3</th>\n",
       "      <td>male</td>\n",
       "      <td>group B</td>\n",
       "      <td>high school</td>\n",
       "      <td>standard</td>\n",
       "      <td>none</td>\n",
       "      <td>77</td>\n",
       "      <td>78</td>\n",
       "      <td>68</td>\n",
       "    </tr>\n",
       "    <tr>\n",
       "      <th>4</th>\n",
       "      <td>male</td>\n",
       "      <td>group E</td>\n",
       "      <td>associate's degree</td>\n",
       "      <td>standard</td>\n",
       "      <td>completed</td>\n",
       "      <td>78</td>\n",
       "      <td>73</td>\n",
       "      <td>68</td>\n",
       "    </tr>\n",
       "  </tbody>\n",
       "</table>\n",
       "</div>"
      ],
      "text/plain": [
       "   gender race/ethnicity parental level of education         lunch  \\\n",
       "0    male        group A                 high school      standard   \n",
       "1  female        group D            some high school  free/reduced   \n",
       "2    male        group E                some college  free/reduced   \n",
       "3    male        group B                 high school      standard   \n",
       "4    male        group E          associate's degree      standard   \n",
       "\n",
       "  test preparation course  math score  reading score  writing score  \n",
       "0               completed          67             67             63  \n",
       "1                    none          40             59             55  \n",
       "2                    none          59             60             50  \n",
       "3                    none          77             78             68  \n",
       "4               completed          78             73             68  "
      ]
     },
     "execution_count": 11,
     "metadata": {},
     "output_type": "execute_result"
    }
   ],
   "source": [
    "df.head()"
   ]
  },
  {
   "cell_type": "markdown",
   "id": "b6412f22",
   "metadata": {
    "papermill": {
     "duration": 0.014706,
     "end_time": "2022-10-26T09:18:31.310174",
     "exception": false,
     "start_time": "2022-10-26T09:18:31.295468",
     "status": "completed"
    },
    "tags": []
   },
   "source": [
    "> <div class=\"alert alert-block alert-info\">\n",
    "<b></b> <strong>Rename</strong></div>"
   ]
  },
  {
   "cell_type": "code",
   "execution_count": 12,
   "id": "7ecc5c21",
   "metadata": {
    "execution": {
     "iopub.execute_input": "2022-10-26T09:18:31.342012Z",
     "iopub.status.busy": "2022-10-26T09:18:31.341560Z",
     "iopub.status.idle": "2022-10-26T09:18:31.357742Z",
     "shell.execute_reply": "2022-10-26T09:18:31.356564Z"
    },
    "papermill": {
     "duration": 0.035051,
     "end_time": "2022-10-26T09:18:31.360231",
     "exception": false,
     "start_time": "2022-10-26T09:18:31.325180",
     "status": "completed"
    },
    "tags": []
   },
   "outputs": [
    {
     "data": {
      "text/html": [
       "<div>\n",
       "<style scoped>\n",
       "    .dataframe tbody tr th:only-of-type {\n",
       "        vertical-align: middle;\n",
       "    }\n",
       "\n",
       "    .dataframe tbody tr th {\n",
       "        vertical-align: top;\n",
       "    }\n",
       "\n",
       "    .dataframe thead th {\n",
       "        text-align: right;\n",
       "    }\n",
       "</style>\n",
       "<table border=\"1\" class=\"dataframe\">\n",
       "  <thead>\n",
       "    <tr style=\"text-align: right;\">\n",
       "      <th></th>\n",
       "      <th>gender</th>\n",
       "      <th>race_ethnicity</th>\n",
       "      <th>Education</th>\n",
       "      <th>lunch</th>\n",
       "      <th>test_preparation_course</th>\n",
       "      <th>math_score</th>\n",
       "      <th>reading_score</th>\n",
       "      <th>writing_score</th>\n",
       "    </tr>\n",
       "  </thead>\n",
       "  <tbody>\n",
       "    <tr>\n",
       "      <th>0</th>\n",
       "      <td>male</td>\n",
       "      <td>group A</td>\n",
       "      <td>high school</td>\n",
       "      <td>standard</td>\n",
       "      <td>completed</td>\n",
       "      <td>67</td>\n",
       "      <td>67</td>\n",
       "      <td>63</td>\n",
       "    </tr>\n",
       "    <tr>\n",
       "      <th>1</th>\n",
       "      <td>female</td>\n",
       "      <td>group D</td>\n",
       "      <td>some high school</td>\n",
       "      <td>free/reduced</td>\n",
       "      <td>none</td>\n",
       "      <td>40</td>\n",
       "      <td>59</td>\n",
       "      <td>55</td>\n",
       "    </tr>\n",
       "    <tr>\n",
       "      <th>2</th>\n",
       "      <td>male</td>\n",
       "      <td>group E</td>\n",
       "      <td>some college</td>\n",
       "      <td>free/reduced</td>\n",
       "      <td>none</td>\n",
       "      <td>59</td>\n",
       "      <td>60</td>\n",
       "      <td>50</td>\n",
       "    </tr>\n",
       "    <tr>\n",
       "      <th>3</th>\n",
       "      <td>male</td>\n",
       "      <td>group B</td>\n",
       "      <td>high school</td>\n",
       "      <td>standard</td>\n",
       "      <td>none</td>\n",
       "      <td>77</td>\n",
       "      <td>78</td>\n",
       "      <td>68</td>\n",
       "    </tr>\n",
       "    <tr>\n",
       "      <th>4</th>\n",
       "      <td>male</td>\n",
       "      <td>group E</td>\n",
       "      <td>associate's degree</td>\n",
       "      <td>standard</td>\n",
       "      <td>completed</td>\n",
       "      <td>78</td>\n",
       "      <td>73</td>\n",
       "      <td>68</td>\n",
       "    </tr>\n",
       "  </tbody>\n",
       "</table>\n",
       "</div>"
      ],
      "text/plain": [
       "   gender race_ethnicity           Education         lunch  \\\n",
       "0    male        group A         high school      standard   \n",
       "1  female        group D    some high school  free/reduced   \n",
       "2    male        group E        some college  free/reduced   \n",
       "3    male        group B         high school      standard   \n",
       "4    male        group E  associate's degree      standard   \n",
       "\n",
       "  test_preparation_course  math_score  reading_score  writing_score  \n",
       "0               completed          67             67             63  \n",
       "1                    none          40             59             55  \n",
       "2                    none          59             60             50  \n",
       "3                    none          77             78             68  \n",
       "4               completed          78             73             68  "
      ]
     },
     "execution_count": 12,
     "metadata": {},
     "output_type": "execute_result"
    }
   ],
   "source": [
    "df=df.rename(columns={\"race/ethnicity\":\"race_ethnicity\",\"parental level of education\":\"Education\",\"test preparation course\":\"test_preparation_course\",\"math score\":\"math_score\",\"reading score\":\"reading_score\",\"writing score\":\"writing_score\"})\n",
    "df.head()"
   ]
  },
  {
   "cell_type": "markdown",
   "id": "dc880d19",
   "metadata": {
    "papermill": {
     "duration": 0.014832,
     "end_time": "2022-10-26T09:18:31.390351",
     "exception": false,
     "start_time": "2022-10-26T09:18:31.375519",
     "status": "completed"
    },
    "tags": []
   },
   "source": [
    "> <div class=\"alert alert-block alert-info\">\n",
    "<b></b> <strong>DATA VISUALIZATION</strong></div>"
   ]
  },
  {
   "cell_type": "code",
   "execution_count": 13,
   "id": "28667074",
   "metadata": {
    "execution": {
     "iopub.execute_input": "2022-10-26T09:18:31.423860Z",
     "iopub.status.busy": "2022-10-26T09:18:31.423433Z",
     "iopub.status.idle": "2022-10-26T09:18:31.431074Z",
     "shell.execute_reply": "2022-10-26T09:18:31.429809Z"
    },
    "papermill": {
     "duration": 0.027356,
     "end_time": "2022-10-26T09:18:31.433678",
     "exception": false,
     "start_time": "2022-10-26T09:18:31.406322",
     "status": "completed"
    },
    "tags": []
   },
   "outputs": [],
   "source": [
    "def bar_plot(variable):\n",
    "\n",
    "    var = df[variable]\n",
    "    \n",
    "    varValue = var.value_counts()\n",
    "    \n",
    "\n",
    "    plt.figure(figsize =(5,5))\n",
    "    plt.bar(varValue.index, varValue)\n",
    "    plt.xticks(varValue.index, varValue.index.values,rotation=45)\n",
    "    plt.ylabel(\"Frequency\")\n",
    "    plt.title(variable)\n",
    "    plt.show()\n",
    "    print(\"{}: \\n {}\".format(variable,varValue))"
   ]
  },
  {
   "cell_type": "code",
   "execution_count": 14,
   "id": "b118c30b",
   "metadata": {
    "execution": {
     "iopub.execute_input": "2022-10-26T09:18:31.467211Z",
     "iopub.status.busy": "2022-10-26T09:18:31.466794Z",
     "iopub.status.idle": "2022-10-26T09:18:32.112299Z",
     "shell.execute_reply": "2022-10-26T09:18:32.111110Z"
    },
    "papermill": {
     "duration": 0.668529,
     "end_time": "2022-10-26T09:18:32.118041",
     "exception": false,
     "start_time": "2022-10-26T09:18:31.449512",
     "status": "completed"
    },
    "tags": []
   },
   "outputs": [
    {
     "data": {
      "image/png": "[encoded data removed]",
      "text/plain": [
       "<Figure size 360x360 with 1 Axes>"
      ]
     },
     "metadata": {
      "needs_background": "light"
     },
     "output_type": "display_data"
    },
    {
     "name": "stdout",
     "output_type": "stream",
     "text": [
      "gender: \n",
      " male      517\n",
      "female    483\n",
      "Name: gender, dtype: int64\n"
     ]
    },
    {
     "data": {
      "image/png": "[encoded data removed]",
      "text/plain": [
       "<Figure size 360x360 with 1 Axes>"
      ]
     },
     "metadata": {
      "needs_background": "light"
     },
     "output_type": "display_data"
    },
    {
     "name": "stdout",
     "output_type": "stream",
     "text": [
      "race_ethnicity: \n",
      " group C    323\n",
      "group D    262\n",
      "group B    205\n",
      "group E    131\n",
      "group A     79\n",
      "Name: race_ethnicity, dtype: int64\n"
     ]
    },
    {
     "data": {
      "image/png": "[encoded data removed]",
      "text/plain": [
       "<Figure size 360x360 with 1 Axes>"
      ]
     },
     "metadata": {
      "needs_background": "light"
     },
     "output_type": "display_data"
    },
    {
     "name": "stdout",
     "output_type": "stream",
     "text": [
      "Education: \n",
      " some college          222\n",
      "associate's degree    203\n",
      "high school           202\n",
      "some high school      191\n",
      "bachelor's degree     112\n",
      "master's degree        70\n",
      "Name: Education, dtype: int64\n"
     ]
    },
    {
     "data": {
      "image/png": "[encoded data removed]",
      "text/plain": [
       "<Figure size 360x360 with 1 Axes>"
      ]
     },
     "metadata": {
      "needs_background": "light"
     },
     "output_type": "display_data"
    },
    {
     "name": "stdout",
     "output_type": "stream",
     "text": [
      "lunch: \n",
      " standard        652\n",
      "free/reduced    348\n",
      "Name: lunch, dtype: int64\n"
     ]
    },
    {
     "data": {
      "image/png": "[encoded data removed]",
      "text/plain": [
       "<Figure size 360x360 with 1 Axes>"
      ]
     },
     "metadata": {
      "needs_background": "light"
     },
     "output_type": "display_data"
    },
    {
     "name": "stdout",
     "output_type": "stream",
     "text": [
      "test_preparation_course: \n",
      " none         665\n",
      "completed    335\n",
      "Name: test_preparation_course, dtype: int64\n"
     ]
    }
   ],
   "source": [
    "category1 = [\"gender\",\"race_ethnicity\",\"Education\",\"lunch\",\"test_preparation_course\"]\n",
    "\n",
    "for c in category1:\n",
    "    \n",
    "    bar_plot(c)"
   ]
  },
  {
   "cell_type": "markdown",
   "id": "f87b3245",
   "metadata": {
    "papermill": {
     "duration": 0.016575,
     "end_time": "2022-10-26T09:18:32.151980",
     "exception": false,
     "start_time": "2022-10-26T09:18:32.135405",
     "status": "completed"
    },
    "tags": []
   },
   "source": [
    "\n",
    "> <div class=\"alert alert-block alert-warning\">\n",
    "<b></b> <strong>These graphs have been drawn to give us a little bit of information.\n",
    "</strong></div>"
   ]
  },
  {
   "cell_type": "code",
   "execution_count": 15,
   "id": "4e17299a",
   "metadata": {
    "execution": {
     "iopub.execute_input": "2022-10-26T09:18:32.188456Z",
     "iopub.status.busy": "2022-10-26T09:18:32.187663Z",
     "iopub.status.idle": "2022-10-26T09:18:32.196757Z",
     "shell.execute_reply": "2022-10-26T09:18:32.195639Z"
    },
    "papermill": {
     "duration": 0.030225,
     "end_time": "2022-10-26T09:18:32.199172",
     "exception": false,
     "start_time": "2022-10-26T09:18:32.168947",
     "status": "completed"
    },
    "tags": []
   },
   "outputs": [
    {
     "data": {
      "text/plain": [
       "group C    323\n",
       "group D    262\n",
       "group B    205\n",
       "group E    131\n",
       "group A     79\n",
       "Name: race_ethnicity, dtype: int64"
      ]
     },
     "execution_count": 15,
     "metadata": {},
     "output_type": "execute_result"
    }
   ],
   "source": [
    "df.race_ethnicity.value_counts()"
   ]
  },
  {
   "cell_type": "code",
   "execution_count": 16,
   "id": "2c6a598d",
   "metadata": {
    "execution": {
     "iopub.execute_input": "2022-10-26T09:18:32.236744Z",
     "iopub.status.busy": "2022-10-26T09:18:32.235758Z",
     "iopub.status.idle": "2022-10-26T09:18:32.413812Z",
     "shell.execute_reply": "2022-10-26T09:18:32.412534Z"
    },
    "papermill": {
     "duration": 0.199995,
     "end_time": "2022-10-26T09:18:32.416601",
     "exception": false,
     "start_time": "2022-10-26T09:18:32.216606",
     "status": "completed"
    },
    "tags": []
   },
   "outputs": [
    {
     "data": {
      "image/png": "[encoded data removed]",
      "text/plain": [
       "<Figure size 432x288 with 1 Axes>"
      ]
     },
     "metadata": {
      "needs_background": "light"
     },
     "output_type": "display_data"
    }
   ],
   "source": [
    "sns.countplot(data=df,x=\"race_ethnicity\")\n",
    "plt.show()"
   ]
  },
  {
   "cell_type": "markdown",
   "id": "6c422740",
   "metadata": {
    "papermill": {
     "duration": 0.017033,
     "end_time": "2022-10-26T09:18:32.451598",
     "exception": false,
     "start_time": "2022-10-26T09:18:32.434565",
     "status": "completed"
    },
    "tags": []
   },
   "source": [
    "> <div class=\"alert alert-block alert-warning\">\n",
    "<b></b> <strong>This graph indicates that there are more people in group C.\n",
    "</strong></div>"
   ]
  },
  {
   "cell_type": "code",
   "execution_count": 17,
   "id": "540f7c2f",
   "metadata": {
    "execution": {
     "iopub.execute_input": "2022-10-26T09:18:32.489064Z",
     "iopub.status.busy": "2022-10-26T09:18:32.488217Z",
     "iopub.status.idle": "2022-10-26T09:18:32.499763Z",
     "shell.execute_reply": "2022-10-26T09:18:32.498327Z"
    },
    "papermill": {
     "duration": 0.033175,
     "end_time": "2022-10-26T09:18:32.502642",
     "exception": false,
     "start_time": "2022-10-26T09:18:32.469467",
     "status": "completed"
    },
    "tags": []
   },
   "outputs": [
    {
     "data": {
      "text/plain": [
       "group C    0.318841\n",
       "group D    0.260870\n",
       "group B    0.236025\n",
       "group E    0.107660\n",
       "group A    0.076605\n",
       "Name: race_ethnicity, dtype: float64"
      ]
     },
     "execution_count": 17,
     "metadata": {},
     "output_type": "execute_result"
    }
   ],
   "source": [
    "df[df.gender==\"female\"].race_ethnicity.value_counts(normalize=True)"
   ]
  },
  {
   "cell_type": "code",
   "execution_count": 18,
   "id": "bb0efe6d",
   "metadata": {
    "execution": {
     "iopub.execute_input": "2022-10-26T09:18:32.540781Z",
     "iopub.status.busy": "2022-10-26T09:18:32.539960Z",
     "iopub.status.idle": "2022-10-26T09:18:32.705630Z",
     "shell.execute_reply": "2022-10-26T09:18:32.704038Z"
    },
    "papermill": {
     "duration": 0.188964,
     "end_time": "2022-10-26T09:18:32.709462",
     "exception": false,
     "start_time": "2022-10-26T09:18:32.520498",
     "status": "completed"
    },
    "tags": []
   },
   "outputs": [
    {
     "data": {
      "image/png": "[encoded data removed]",
      "text/plain": [
       "<Figure size 432x288 with 1 Axes>"
      ]
     },
     "metadata": {},
     "output_type": "display_data"
    }
   ],
   "source": [
    "# Pie chart, where the slices will be ordered and plotted counter-clockwise:\n",
    "labels = df[\"race_ethnicity\"].value_counts().index\n",
    "sizes = df[\"race_ethnicity\"].value_counts()\n",
    "\n",
    "fig1, ax1 = plt.subplots()\n",
    "ax1.pie(sizes, labels=labels, autopct='%1.1f%%',\n",
    "        shadow=True, startangle=90)\n",
    "ax1.axis('equal')  # Equal aspect ratio ensures that pie is drawn as a circle.\n",
    "\n",
    "plt.show()"
   ]
  },
  {
   "cell_type": "markdown",
   "id": "ec0ed5ec",
   "metadata": {
    "papermill": {
     "duration": 0.028618,
     "end_time": "2022-10-26T09:18:32.768288",
     "exception": false,
     "start_time": "2022-10-26T09:18:32.739670",
     "status": "completed"
    },
    "tags": []
   },
   "source": [
    "> <div class=\"alert alert-block alert-warning\">\n",
    "<b></b> <strong>This pie chart shows that there are more people in group C than others.\n",
    "</strong></div>"
   ]
  },
  {
   "cell_type": "code",
   "execution_count": 19,
   "id": "d6546cf7",
   "metadata": {
    "execution": {
     "iopub.execute_input": "2022-10-26T09:18:32.810489Z",
     "iopub.status.busy": "2022-10-26T09:18:32.810034Z",
     "iopub.status.idle": "2022-10-26T09:18:33.044601Z",
     "shell.execute_reply": "2022-10-26T09:18:33.043253Z"
    },
    "papermill": {
     "duration": 0.256346,
     "end_time": "2022-10-26T09:18:33.047303",
     "exception": false,
     "start_time": "2022-10-26T09:18:32.790957",
     "status": "completed"
    },
    "tags": []
   },
   "outputs": [
    {
     "data": {
      "image/png": "[encoded data removed]",
      "text/plain": [
       "<Figure size 432x288 with 1 Axes>"
      ]
     },
     "metadata": {
      "needs_background": "light"
     },
     "output_type": "display_data"
    }
   ],
   "source": [
    "sns.countplot(x=df[\"race_ethnicity\"], hue=df[\"gender\"], palette=\"bone\")\n",
    "plt.xlabel(\"Race/Ethnicity\")\n",
    "plt.ylabel(\"Frequency\")\n",
    "plt.show()"
   ]
  },
  {
   "cell_type": "code",
   "execution_count": 20,
   "id": "00f9b137",
   "metadata": {
    "execution": {
     "iopub.execute_input": "2022-10-26T09:18:33.086474Z",
     "iopub.status.busy": "2022-10-26T09:18:33.085622Z",
     "iopub.status.idle": "2022-10-26T09:18:33.362228Z",
     "shell.execute_reply": "2022-10-26T09:18:33.360986Z"
    },
    "papermill": {
     "duration": 0.299489,
     "end_time": "2022-10-26T09:18:33.364931",
     "exception": false,
     "start_time": "2022-10-26T09:18:33.065442",
     "status": "completed"
    },
    "tags": []
   },
   "outputs": [
    {
     "data": {
      "image/png": "[encoded data removed]",
      "text/plain": [
       "<Figure size 432x288 with 1 Axes>"
      ]
     },
     "metadata": {
      "needs_background": "light"
     },
     "output_type": "display_data"
    }
   ],
   "source": [
    "sns.histplot(data=df, y=\"race_ethnicity\", hue= \"gender\", palette=\"coolwarm\", kde= True)\n",
    "plt.show()\n"
   ]
  },
  {
   "cell_type": "code",
   "execution_count": 21,
   "id": "b5d4b6b2",
   "metadata": {
    "execution": {
     "iopub.execute_input": "2022-10-26T09:18:33.405107Z",
     "iopub.status.busy": "2022-10-26T09:18:33.404350Z",
     "iopub.status.idle": "2022-10-26T09:18:33.657078Z",
     "shell.execute_reply": "2022-10-26T09:18:33.655857Z"
    },
    "papermill": {
     "duration": 0.275563,
     "end_time": "2022-10-26T09:18:33.659925",
     "exception": false,
     "start_time": "2022-10-26T09:18:33.384362",
     "status": "completed"
    },
    "tags": []
   },
   "outputs": [
    {
     "data": {
      "image/png": "[encoded data removed]",
      "text/plain": [
       "<Figure size 432x288 with 1 Axes>"
      ]
     },
     "metadata": {
      "needs_background": "light"
     },
     "output_type": "display_data"
    }
   ],
   "source": [
    "sns.histplot(data=df, y=\"race_ethnicity\", hue= \"gender\", palette=\"ocean\")\n",
    "plt.show()"
   ]
  },
  {
   "cell_type": "code",
   "execution_count": 22,
   "id": "05bb8202",
   "metadata": {
    "execution": {
     "iopub.execute_input": "2022-10-26T09:18:33.700045Z",
     "iopub.status.busy": "2022-10-26T09:18:33.699574Z",
     "iopub.status.idle": "2022-10-26T09:18:33.710670Z",
     "shell.execute_reply": "2022-10-26T09:18:33.709469Z"
    },
    "papermill": {
     "duration": 0.034442,
     "end_time": "2022-10-26T09:18:33.713797",
     "exception": false,
     "start_time": "2022-10-26T09:18:33.679355",
     "status": "completed"
    },
    "tags": []
   },
   "outputs": [
    {
     "data": {
      "text/plain": [
       "group C    154\n",
       "group D    126\n",
       "group B    114\n",
       "group E     52\n",
       "group A     37\n",
       "Name: race_ethnicity, dtype: int64"
      ]
     },
     "execution_count": 22,
     "metadata": {},
     "output_type": "execute_result"
    }
   ],
   "source": [
    "df[df.gender==\"female\"].race_ethnicity.value_counts()"
   ]
  },
  {
   "cell_type": "code",
   "execution_count": 23,
   "id": "400cb5ba",
   "metadata": {
    "execution": {
     "iopub.execute_input": "2022-10-26T09:18:33.754152Z",
     "iopub.status.busy": "2022-10-26T09:18:33.753472Z",
     "iopub.status.idle": "2022-10-26T09:18:33.929443Z",
     "shell.execute_reply": "2022-10-26T09:18:33.928205Z"
    },
    "papermill": {
     "duration": 0.199364,
     "end_time": "2022-10-26T09:18:33.932071",
     "exception": false,
     "start_time": "2022-10-26T09:18:33.732707",
     "status": "completed"
    },
    "tags": []
   },
   "outputs": [
    {
     "data": {
      "image/png": "[encoded data removed]",
      "text/plain": [
       "<Figure size 432x288 with 1 Axes>"
      ]
     },
     "metadata": {
      "needs_background": "light"
     },
     "output_type": "display_data"
    }
   ],
   "source": [
    "sns.countplot(data=df,x=df[df.gender==\"female\"].race_ethnicity.value_counts())\n",
    "plt.show()"
   ]
  },
  {
   "cell_type": "code",
   "execution_count": 24,
   "id": "670d4733",
   "metadata": {
    "execution": {
     "iopub.execute_input": "2022-10-26T09:18:33.973671Z",
     "iopub.status.busy": "2022-10-26T09:18:33.973216Z",
     "iopub.status.idle": "2022-10-26T09:18:33.983983Z",
     "shell.execute_reply": "2022-10-26T09:18:33.982682Z"
    },
    "papermill": {
     "duration": 0.03525,
     "end_time": "2022-10-26T09:18:33.986555",
     "exception": false,
     "start_time": "2022-10-26T09:18:33.951305",
     "status": "completed"
    },
    "tags": []
   },
   "outputs": [
    {
     "data": {
      "text/plain": [
       "some college          222\n",
       "associate's degree    203\n",
       "high school           202\n",
       "some high school      191\n",
       "bachelor's degree     112\n",
       "master's degree        70\n",
       "Name: Education, dtype: int64"
      ]
     },
     "execution_count": 24,
     "metadata": {},
     "output_type": "execute_result"
    }
   ],
   "source": [
    "df.Education.value_counts()\n"
   ]
  },
  {
   "cell_type": "code",
   "execution_count": 25,
   "id": "b6475b29",
   "metadata": {
    "execution": {
     "iopub.execute_input": "2022-10-26T09:18:34.027809Z",
     "iopub.status.busy": "2022-10-26T09:18:34.026409Z",
     "iopub.status.idle": "2022-10-26T09:18:34.210956Z",
     "shell.execute_reply": "2022-10-26T09:18:34.210000Z"
    },
    "papermill": {
     "duration": 0.207698,
     "end_time": "2022-10-26T09:18:34.213559",
     "exception": false,
     "start_time": "2022-10-26T09:18:34.005861",
     "status": "completed"
    },
    "tags": []
   },
   "outputs": [
    {
     "data": {
      "image/png": "[encoded data removed]",
      "text/plain": [
       "<Figure size 432x288 with 1 Axes>"
      ]
     },
     "metadata": {
      "needs_background": "light"
     },
     "output_type": "display_data"
    }
   ],
   "source": [
    "plt.xticks(rotation=45)\n",
    "sns.countplot(data=df,x=\"Education\",palette=\"Paired\")\n",
    "plt.show()"
   ]
  },
  {
   "cell_type": "code",
   "execution_count": 26,
   "id": "231f456f",
   "metadata": {
    "execution": {
     "iopub.execute_input": "2022-10-26T09:18:34.254806Z",
     "iopub.status.busy": "2022-10-26T09:18:34.253723Z",
     "iopub.status.idle": "2022-10-26T09:18:34.420172Z",
     "shell.execute_reply": "2022-10-26T09:18:34.418716Z"
    },
    "papermill": {
     "duration": 0.190764,
     "end_time": "2022-10-26T09:18:34.423656",
     "exception": false,
     "start_time": "2022-10-26T09:18:34.232892",
     "status": "completed"
    },
    "tags": []
   },
   "outputs": [
    {
     "data": {
      "image/png": "[encoded data removed]",
      "text/plain": [
       "<Figure size 432x288 with 1 Axes>"
      ]
     },
     "metadata": {},
     "output_type": "display_data"
    }
   ],
   "source": [
    "labels = df[\"Education\"].value_counts().index\n",
    "sizes = df[\"Education\"].value_counts()\n",
    "\n",
    "fig1, ax1 = plt.subplots()\n",
    "ax1.pie(sizes, labels=labels, autopct='%1.1f%%',\n",
    "        shadow=True, startangle=90)\n",
    "ax1.axis('equal')  # Equal aspect ratio ensures that pie is drawn as a circle.\n",
    "\n",
    "plt.show()"
   ]
  },
  {
   "cell_type": "code",
   "execution_count": 27,
   "id": "38f184c8",
   "metadata": {
    "execution": {
     "iopub.execute_input": "2022-10-26T09:18:34.488073Z",
     "iopub.status.busy": "2022-10-26T09:18:34.487644Z",
     "iopub.status.idle": "2022-10-26T09:18:34.497239Z",
     "shell.execute_reply": "2022-10-26T09:18:34.496010Z"
    },
    "papermill": {
     "duration": 0.043162,
     "end_time": "2022-10-26T09:18:34.499899",
     "exception": false,
     "start_time": "2022-10-26T09:18:34.456737",
     "status": "completed"
    },
    "tags": []
   },
   "outputs": [
    {
     "data": {
      "text/plain": [
       "male      517\n",
       "female    483\n",
       "Name: gender, dtype: int64"
      ]
     },
     "execution_count": 27,
     "metadata": {},
     "output_type": "execute_result"
    }
   ],
   "source": [
    "df.gender.value_counts()\n"
   ]
  },
  {
   "cell_type": "code",
   "execution_count": 28,
   "id": "a71d0495",
   "metadata": {
    "execution": {
     "iopub.execute_input": "2022-10-26T09:18:34.542562Z",
     "iopub.status.busy": "2022-10-26T09:18:34.541535Z",
     "iopub.status.idle": "2022-10-26T09:18:34.692075Z",
     "shell.execute_reply": "2022-10-26T09:18:34.690829Z"
    },
    "papermill": {
     "duration": 0.174638,
     "end_time": "2022-10-26T09:18:34.694668",
     "exception": false,
     "start_time": "2022-10-26T09:18:34.520030",
     "status": "completed"
    },
    "tags": []
   },
   "outputs": [
    {
     "data": {
      "image/png": "[encoded data removed]",
      "text/plain": [
       "<Figure size 432x288 with 1 Axes>"
      ]
     },
     "metadata": {
      "needs_background": "light"
     },
     "output_type": "display_data"
    }
   ],
   "source": [
    "sns.countplot(data=df,x=\"gender\",palette=\"crest_r\")\n",
    "plt.show()"
   ]
  },
  {
   "cell_type": "code",
   "execution_count": 29,
   "id": "fda6016d",
   "metadata": {
    "execution": {
     "iopub.execute_input": "2022-10-26T09:18:34.737952Z",
     "iopub.status.busy": "2022-10-26T09:18:34.737109Z",
     "iopub.status.idle": "2022-10-26T09:18:34.744963Z",
     "shell.execute_reply": "2022-10-26T09:18:34.744059Z"
    },
    "papermill": {
     "duration": 0.031738,
     "end_time": "2022-10-26T09:18:34.747203",
     "exception": false,
     "start_time": "2022-10-26T09:18:34.715465",
     "status": "completed"
    },
    "tags": []
   },
   "outputs": [
    {
     "data": {
      "text/plain": [
       "standard        652\n",
       "free/reduced    348\n",
       "Name: lunch, dtype: int64"
      ]
     },
     "execution_count": 29,
     "metadata": {},
     "output_type": "execute_result"
    }
   ],
   "source": [
    "df.lunch.value_counts()\n"
   ]
  },
  {
   "cell_type": "code",
   "execution_count": 30,
   "id": "9174443a",
   "metadata": {
    "execution": {
     "iopub.execute_input": "2022-10-26T09:18:34.790531Z",
     "iopub.status.busy": "2022-10-26T09:18:34.789339Z",
     "iopub.status.idle": "2022-10-26T09:18:34.947188Z",
     "shell.execute_reply": "2022-10-26T09:18:34.946257Z"
    },
    "papermill": {
     "duration": 0.181897,
     "end_time": "2022-10-26T09:18:34.949652",
     "exception": false,
     "start_time": "2022-10-26T09:18:34.767755",
     "status": "completed"
    },
    "tags": []
   },
   "outputs": [
    {
     "data": {
      "image/png": "[encoded data removed]",
      "text/plain": [
       "<Figure size 432x288 with 1 Axes>"
      ]
     },
     "metadata": {
      "needs_background": "light"
     },
     "output_type": "display_data"
    }
   ],
   "source": [
    "sns.countplot(data=df, x=\"lunch\",palette=\"RdYlGn_r\")\n",
    "plt.show()"
   ]
  },
  {
   "cell_type": "code",
   "execution_count": 31,
   "id": "4c7a2425",
   "metadata": {
    "execution": {
     "iopub.execute_input": "2022-10-26T09:18:34.994420Z",
     "iopub.status.busy": "2022-10-26T09:18:34.993621Z",
     "iopub.status.idle": "2022-10-26T09:18:35.001704Z",
     "shell.execute_reply": "2022-10-26T09:18:35.000764Z"
    },
    "papermill": {
     "duration": 0.0331,
     "end_time": "2022-10-26T09:18:35.004073",
     "exception": false,
     "start_time": "2022-10-26T09:18:34.970973",
     "status": "completed"
    },
    "tags": []
   },
   "outputs": [
    {
     "data": {
      "text/plain": [
       "none         665\n",
       "completed    335\n",
       "Name: test_preparation_course, dtype: int64"
      ]
     },
     "execution_count": 31,
     "metadata": {},
     "output_type": "execute_result"
    }
   ],
   "source": [
    "df.test_preparation_course.value_counts()"
   ]
  },
  {
   "cell_type": "code",
   "execution_count": 32,
   "id": "73e18d94",
   "metadata": {
    "execution": {
     "iopub.execute_input": "2022-10-26T09:18:35.047721Z",
     "iopub.status.busy": "2022-10-26T09:18:35.047263Z",
     "iopub.status.idle": "2022-10-26T09:18:35.203835Z",
     "shell.execute_reply": "2022-10-26T09:18:35.202397Z"
    },
    "papermill": {
     "duration": 0.181702,
     "end_time": "2022-10-26T09:18:35.206866",
     "exception": false,
     "start_time": "2022-10-26T09:18:35.025164",
     "status": "completed"
    },
    "tags": []
   },
   "outputs": [
    {
     "data": {
      "image/png": "[encoded data removed]",
      "text/plain": [
       "<Figure size 432x288 with 1 Axes>"
      ]
     },
     "metadata": {
      "needs_background": "light"
     },
     "output_type": "display_data"
    }
   ],
   "source": [
    "sns.countplot(data=df, x=\"test_preparation_course\",palette=\"autumn\")\n",
    "plt.show()"
   ]
  },
  {
   "cell_type": "code",
   "execution_count": 33,
   "id": "cf317e3b",
   "metadata": {
    "execution": {
     "iopub.execute_input": "2022-10-26T09:18:35.251210Z",
     "iopub.status.busy": "2022-10-26T09:18:35.250782Z",
     "iopub.status.idle": "2022-10-26T09:18:35.604075Z",
     "shell.execute_reply": "2022-10-26T09:18:35.602858Z"
    },
    "papermill": {
     "duration": 0.378712,
     "end_time": "2022-10-26T09:18:35.606833",
     "exception": false,
     "start_time": "2022-10-26T09:18:35.228121",
     "status": "completed"
    },
    "tags": []
   },
   "outputs": [
    {
     "data": {
      "image/png": "[encoded data removed]",
      "text/plain": [
       "<Figure size 432x288 with 1 Axes>"
      ]
     },
     "metadata": {
      "needs_background": "light"
     },
     "output_type": "display_data"
    }
   ],
   "source": [
    "sns.barplot(data=df, x=\"math_score\", y=\"Education\")\n",
    "plt.show()\n"
   ]
  },
  {
   "cell_type": "code",
   "execution_count": 34,
   "id": "874006e2",
   "metadata": {
    "execution": {
     "iopub.execute_input": "2022-10-26T09:18:35.651579Z",
     "iopub.status.busy": "2022-10-26T09:18:35.651127Z",
     "iopub.status.idle": "2022-10-26T09:18:35.666480Z",
     "shell.execute_reply": "2022-10-26T09:18:35.665248Z"
    },
    "papermill": {
     "duration": 0.04084,
     "end_time": "2022-10-26T09:18:35.668902",
     "exception": false,
     "start_time": "2022-10-26T09:18:35.628062",
     "status": "completed"
    },
    "tags": []
   },
   "outputs": [
    {
     "data": {
      "text/html": [
       "<div>\n",
       "<style scoped>\n",
       "    .dataframe tbody tr th:only-of-type {\n",
       "        vertical-align: middle;\n",
       "    }\n",
       "\n",
       "    .dataframe tbody tr th {\n",
       "        vertical-align: top;\n",
       "    }\n",
       "\n",
       "    .dataframe thead th {\n",
       "        text-align: right;\n",
       "    }\n",
       "</style>\n",
       "<table border=\"1\" class=\"dataframe\">\n",
       "  <thead>\n",
       "    <tr style=\"text-align: right;\">\n",
       "      <th></th>\n",
       "      <th>gender</th>\n",
       "      <th>race_ethnicity</th>\n",
       "      <th>Education</th>\n",
       "      <th>lunch</th>\n",
       "      <th>test_preparation_course</th>\n",
       "      <th>math_score</th>\n",
       "      <th>reading_score</th>\n",
       "      <th>writing_score</th>\n",
       "    </tr>\n",
       "  </thead>\n",
       "  <tbody>\n",
       "    <tr>\n",
       "      <th>0</th>\n",
       "      <td>male</td>\n",
       "      <td>group A</td>\n",
       "      <td>high school</td>\n",
       "      <td>standard</td>\n",
       "      <td>completed</td>\n",
       "      <td>67</td>\n",
       "      <td>67</td>\n",
       "      <td>63</td>\n",
       "    </tr>\n",
       "    <tr>\n",
       "      <th>1</th>\n",
       "      <td>female</td>\n",
       "      <td>group D</td>\n",
       "      <td>some high school</td>\n",
       "      <td>free/reduced</td>\n",
       "      <td>none</td>\n",
       "      <td>40</td>\n",
       "      <td>59</td>\n",
       "      <td>55</td>\n",
       "    </tr>\n",
       "    <tr>\n",
       "      <th>2</th>\n",
       "      <td>male</td>\n",
       "      <td>group E</td>\n",
       "      <td>some college</td>\n",
       "      <td>free/reduced</td>\n",
       "      <td>none</td>\n",
       "      <td>59</td>\n",
       "      <td>60</td>\n",
       "      <td>50</td>\n",
       "    </tr>\n",
       "    <tr>\n",
       "      <th>3</th>\n",
       "      <td>male</td>\n",
       "      <td>group B</td>\n",
       "      <td>high school</td>\n",
       "      <td>standard</td>\n",
       "      <td>none</td>\n",
       "      <td>77</td>\n",
       "      <td>78</td>\n",
       "      <td>68</td>\n",
       "    </tr>\n",
       "    <tr>\n",
       "      <th>4</th>\n",
       "      <td>male</td>\n",
       "      <td>group E</td>\n",
       "      <td>associate's degree</td>\n",
       "      <td>standard</td>\n",
       "      <td>completed</td>\n",
       "      <td>78</td>\n",
       "      <td>73</td>\n",
       "      <td>68</td>\n",
       "    </tr>\n",
       "  </tbody>\n",
       "</table>\n",
       "</div>"
      ],
      "text/plain": [
       "   gender race_ethnicity           Education         lunch  \\\n",
       "0    male        group A         high school      standard   \n",
       "1  female        group D    some high school  free/reduced   \n",
       "2    male        group E        some college  free/reduced   \n",
       "3    male        group B         high school      standard   \n",
       "4    male        group E  associate's degree      standard   \n",
       "\n",
       "  test_preparation_course  math_score  reading_score  writing_score  \n",
       "0               completed          67             67             63  \n",
       "1                    none          40             59             55  \n",
       "2                    none          59             60             50  \n",
       "3                    none          77             78             68  \n",
       "4               completed          78             73             68  "
      ]
     },
     "execution_count": 34,
     "metadata": {},
     "output_type": "execute_result"
    }
   ],
   "source": [
    "df.head()"
   ]
  },
  {
   "cell_type": "markdown",
   "id": "ad31e589",
   "metadata": {
    "papermill": {
     "duration": 0.020946,
     "end_time": "2022-10-26T09:18:35.711885",
     "exception": false,
     "start_time": "2022-10-26T09:18:35.690939",
     "status": "completed"
    },
    "tags": []
   },
   "source": [
    "### test_preparation_course-math_score\n",
    "### test_preparation_course-reading_score\n",
    "### test_preparation_course-writing_score\n"
   ]
  },
  {
   "cell_type": "code",
   "execution_count": 35,
   "id": "e01db03a",
   "metadata": {
    "execution": {
     "iopub.execute_input": "2022-10-26T09:18:35.757125Z",
     "iopub.status.busy": "2022-10-26T09:18:35.756668Z",
     "iopub.status.idle": "2022-10-26T09:18:36.051483Z",
     "shell.execute_reply": "2022-10-26T09:18:36.050453Z"
    },
    "papermill": {
     "duration": 0.3205,
     "end_time": "2022-10-26T09:18:36.054143",
     "exception": false,
     "start_time": "2022-10-26T09:18:35.733643",
     "status": "completed"
    },
    "tags": []
   },
   "outputs": [
    {
     "data": {
      "image/png": "[encoded data removed]",
      "text/plain": [
       "<Figure size 360x360 with 1 Axes>"
      ]
     },
     "metadata": {
      "needs_background": "light"
     },
     "output_type": "display_data"
    }
   ],
   "source": [
    "sns.catplot(data=df,x=\"test_preparation_course\",y=\"math_score\",kind=\"bar\",palette=\"crest\")\n",
    "plt.show()"
   ]
  },
  {
   "cell_type": "code",
   "execution_count": 36,
   "id": "06906ba5",
   "metadata": {
    "execution": {
     "iopub.execute_input": "2022-10-26T09:18:36.099662Z",
     "iopub.status.busy": "2022-10-26T09:18:36.099199Z",
     "iopub.status.idle": "2022-10-26T09:18:36.569063Z",
     "shell.execute_reply": "2022-10-26T09:18:36.567722Z"
    },
    "papermill": {
     "duration": 0.495943,
     "end_time": "2022-10-26T09:18:36.571889",
     "exception": false,
     "start_time": "2022-10-26T09:18:36.075946",
     "status": "completed"
    },
    "tags": []
   },
   "outputs": [
    {
     "data": {
      "image/png": "[encoded data removed]",
      "text/plain": [
       "<Figure size 360x360 with 1 Axes>"
      ]
     },
     "metadata": {
      "needs_background": "light"
     },
     "output_type": "display_data"
    }
   ],
   "source": [
    "sns.catplot(data=df,x=\"test_preparation_course\",y=\"reading_score\",kind=\"bar\",palette=\"nipy_spectral_r\")\n",
    "plt.show()"
   ]
  },
  {
   "cell_type": "code",
   "execution_count": 37,
   "id": "b20ac928",
   "metadata": {
    "execution": {
     "iopub.execute_input": "2022-10-26T09:18:36.618478Z",
     "iopub.status.busy": "2022-10-26T09:18:36.618000Z",
     "iopub.status.idle": "2022-10-26T09:18:36.926161Z",
     "shell.execute_reply": "2022-10-26T09:18:36.924924Z"
    },
    "papermill": {
     "duration": 0.334294,
     "end_time": "2022-10-26T09:18:36.928806",
     "exception": false,
     "start_time": "2022-10-26T09:18:36.594512",
     "status": "completed"
    },
    "tags": []
   },
   "outputs": [
    {
     "data": {
      "image/png": "[encoded data removed]",
      "text/plain": [
       "<Figure size 360x360 with 1 Axes>"
      ]
     },
     "metadata": {
      "needs_background": "light"
     },
     "output_type": "display_data"
    }
   ],
   "source": [
    "sns.catplot(data=df,x=\"test_preparation_course\",y=\"writing_score\",kind=\"bar\",palette=\"prism_r\")\n",
    "plt.show()"
   ]
  },
  {
   "cell_type": "markdown",
   "id": "b1bac673",
   "metadata": {
    "papermill": {
     "duration": 0.021759,
     "end_time": "2022-10-26T09:18:36.972756",
     "exception": false,
     "start_time": "2022-10-26T09:18:36.950997",
     "status": "completed"
    },
    "tags": []
   },
   "source": [
    "> <div class=\"alert alert-block alert-warning\">\n",
    "<b></b> <strong>From these tables we can conclude that the passing grade is about 70.\n",
    "</strong></div>"
   ]
  },
  {
   "cell_type": "markdown",
   "id": "2c003bef",
   "metadata": {
    "papermill": {
     "duration": 0.023258,
     "end_time": "2022-10-26T09:18:37.018263",
     "exception": false,
     "start_time": "2022-10-26T09:18:36.995005",
     "status": "completed"
    },
    "tags": []
   },
   "source": [
    "### Education-math_score \n",
    "             &\n",
    "### Education-reading_score\n",
    "             &\n",
    "### Education-writing_score    "
   ]
  },
  {
   "cell_type": "code",
   "execution_count": 38,
   "id": "2178c791",
   "metadata": {
    "execution": {
     "iopub.execute_input": "2022-10-26T09:18:37.064769Z",
     "iopub.status.busy": "2022-10-26T09:18:37.064297Z",
     "iopub.status.idle": "2022-10-26T09:18:37.081752Z",
     "shell.execute_reply": "2022-10-26T09:18:37.080778Z"
    },
    "papermill": {
     "duration": 0.043542,
     "end_time": "2022-10-26T09:18:37.084350",
     "exception": false,
     "start_time": "2022-10-26T09:18:37.040808",
     "status": "completed"
    },
    "tags": []
   },
   "outputs": [
    {
     "data": {
      "text/html": [
       "<div>\n",
       "<style scoped>\n",
       "    .dataframe tbody tr th:only-of-type {\n",
       "        vertical-align: middle;\n",
       "    }\n",
       "\n",
       "    .dataframe tbody tr th {\n",
       "        vertical-align: top;\n",
       "    }\n",
       "\n",
       "    .dataframe thead th {\n",
       "        text-align: right;\n",
       "    }\n",
       "</style>\n",
       "<table border=\"1\" class=\"dataframe\">\n",
       "  <thead>\n",
       "    <tr style=\"text-align: right;\">\n",
       "      <th></th>\n",
       "      <th>math_score</th>\n",
       "      <th>reading_score</th>\n",
       "      <th>writing_score</th>\n",
       "    </tr>\n",
       "    <tr>\n",
       "      <th>Education</th>\n",
       "      <th></th>\n",
       "      <th></th>\n",
       "      <th></th>\n",
       "    </tr>\n",
       "  </thead>\n",
       "  <tbody>\n",
       "    <tr>\n",
       "      <th>master's degree</th>\n",
       "      <td>71.585714</td>\n",
       "      <td>75.428571</td>\n",
       "      <td>75.885714</td>\n",
       "    </tr>\n",
       "    <tr>\n",
       "      <th>bachelor's degree</th>\n",
       "      <td>71.491071</td>\n",
       "      <td>74.008929</td>\n",
       "      <td>74.410714</td>\n",
       "    </tr>\n",
       "    <tr>\n",
       "      <th>associate's degree</th>\n",
       "      <td>69.536946</td>\n",
       "      <td>70.985222</td>\n",
       "      <td>70.113300</td>\n",
       "    </tr>\n",
       "    <tr>\n",
       "      <th>some college</th>\n",
       "      <td>65.297297</td>\n",
       "      <td>68.045045</td>\n",
       "      <td>66.734234</td>\n",
       "    </tr>\n",
       "    <tr>\n",
       "      <th>high school</th>\n",
       "      <td>65.207921</td>\n",
       "      <td>67.400990</td>\n",
       "      <td>64.846535</td>\n",
       "    </tr>\n",
       "    <tr>\n",
       "      <th>some high school</th>\n",
       "      <td>60.701571</td>\n",
       "      <td>64.408377</td>\n",
       "      <td>62.539267</td>\n",
       "    </tr>\n",
       "  </tbody>\n",
       "</table>\n",
       "</div>"
      ],
      "text/plain": [
       "                    math_score  reading_score  writing_score\n",
       "Education                                                   \n",
       "master's degree      71.585714      75.428571      75.885714\n",
       "bachelor's degree    71.491071      74.008929      74.410714\n",
       "associate's degree   69.536946      70.985222      70.113300\n",
       "some college         65.297297      68.045045      66.734234\n",
       "high school          65.207921      67.400990      64.846535\n",
       "some high school     60.701571      64.408377      62.539267"
      ]
     },
     "execution_count": 38,
     "metadata": {},
     "output_type": "execute_result"
    }
   ],
   "source": [
    "y=df[[\"Education\",\"math_score\",\"reading_score\",\"writing_score\"]].groupby([\"Education\"]).mean().sort_values(by=\"math_score\",ascending = False)\n",
    "y\n"
   ]
  },
  {
   "cell_type": "code",
   "execution_count": 39,
   "id": "61227483",
   "metadata": {
    "execution": {
     "iopub.execute_input": "2022-10-26T09:18:37.131644Z",
     "iopub.status.busy": "2022-10-26T09:18:37.130985Z",
     "iopub.status.idle": "2022-10-26T09:18:37.565745Z",
     "shell.execute_reply": "2022-10-26T09:18:37.564719Z"
    },
    "papermill": {
     "duration": 0.461203,
     "end_time": "2022-10-26T09:18:37.568338",
     "exception": false,
     "start_time": "2022-10-26T09:18:37.107135",
     "status": "completed"
    },
    "tags": []
   },
   "outputs": [
    {
     "data": {
      "image/png": "[encoded data removed]",
      "text/plain": [
       "<Figure size 360x360 with 1 Axes>"
      ]
     },
     "metadata": {
      "needs_background": "light"
     },
     "output_type": "display_data"
    }
   ],
   "source": [
    "sns.catplot(x=\"Education\",y=\"math_score\",data=df, palette=\"ocean\",kind=\"bar\")\n",
    "plt.xticks(rotation=90)\n",
    "plt.show()"
   ]
  },
  {
   "cell_type": "code",
   "execution_count": 40,
   "id": "2d46eab9",
   "metadata": {
    "execution": {
     "iopub.execute_input": "2022-10-26T09:18:37.616251Z",
     "iopub.status.busy": "2022-10-26T09:18:37.615492Z",
     "iopub.status.idle": "2022-10-26T09:18:38.058240Z",
     "shell.execute_reply": "2022-10-26T09:18:38.057067Z"
    },
    "papermill": {
     "duration": 0.46973,
     "end_time": "2022-10-26T09:18:38.060918",
     "exception": false,
     "start_time": "2022-10-26T09:18:37.591188",
     "status": "completed"
    },
    "tags": []
   },
   "outputs": [
    {
     "data": {
      "image/png": "[encoded data removed]",
      "text/plain": [
       "<Figure size 360x360 with 1 Axes>"
      ]
     },
     "metadata": {
      "needs_background": "light"
     },
     "output_type": "display_data"
    }
   ],
   "source": [
    "sns.catplot(data=df,x=\"Education\", y=\"reading_score\", kind=\"bar\",palette=\"BuPu\")\n",
    "plt.xticks(rotation=90)\n",
    "plt.xlabel(\"Education\")\n",
    "plt.ylabel(\"Reading Score\")\n",
    "plt.title(\"Education/Reading Score\")\n",
    "plt.show()"
   ]
  },
  {
   "cell_type": "code",
   "execution_count": 41,
   "id": "bbe1cbed",
   "metadata": {
    "execution": {
     "iopub.execute_input": "2022-10-26T09:18:38.109510Z",
     "iopub.status.busy": "2022-10-26T09:18:38.109008Z",
     "iopub.status.idle": "2022-10-26T09:18:38.538005Z",
     "shell.execute_reply": "2022-10-26T09:18:38.536825Z"
    },
    "papermill": {
     "duration": 0.456675,
     "end_time": "2022-10-26T09:18:38.540790",
     "exception": false,
     "start_time": "2022-10-26T09:18:38.084115",
     "status": "completed"
    },
    "tags": []
   },
   "outputs": [
    {
     "data": {
      "image/png": "[encoded data removed]",
      "text/plain": [
       "<Figure size 360x360 with 1 Axes>"
      ]
     },
     "metadata": {
      "needs_background": "light"
     },
     "output_type": "display_data"
    }
   ],
   "source": [
    "sns.catplot(data=df,x=\"Education\",y=\"writing_score\",kind=\"bar\",palette=\"tab20\")\n",
    "plt.xticks(rotation=90)\n",
    "plt.show()"
   ]
  },
  {
   "cell_type": "code",
   "execution_count": 42,
   "id": "f9d61bba",
   "metadata": {
    "execution": {
     "iopub.execute_input": "2022-10-26T09:18:38.591559Z",
     "iopub.status.busy": "2022-10-26T09:18:38.591075Z",
     "iopub.status.idle": "2022-10-26T09:18:38.602827Z",
     "shell.execute_reply": "2022-10-26T09:18:38.601929Z"
    },
    "papermill": {
     "duration": 0.04075,
     "end_time": "2022-10-26T09:18:38.605570",
     "exception": false,
     "start_time": "2022-10-26T09:18:38.564820",
     "status": "completed"
    },
    "tags": []
   },
   "outputs": [
    {
     "data": {
      "text/html": [
       "<div>\n",
       "<style scoped>\n",
       "    .dataframe tbody tr th:only-of-type {\n",
       "        vertical-align: middle;\n",
       "    }\n",
       "\n",
       "    .dataframe tbody tr th {\n",
       "        vertical-align: top;\n",
       "    }\n",
       "\n",
       "    .dataframe thead th {\n",
       "        text-align: right;\n",
       "    }\n",
       "</style>\n",
       "<table border=\"1\" class=\"dataframe\">\n",
       "  <thead>\n",
       "    <tr style=\"text-align: right;\">\n",
       "      <th></th>\n",
       "      <th>race_ethnicity</th>\n",
       "      <th>math_score</th>\n",
       "    </tr>\n",
       "  </thead>\n",
       "  <tbody>\n",
       "    <tr>\n",
       "      <th>0</th>\n",
       "      <td>group A</td>\n",
       "      <td>67</td>\n",
       "    </tr>\n",
       "    <tr>\n",
       "      <th>1</th>\n",
       "      <td>group D</td>\n",
       "      <td>40</td>\n",
       "    </tr>\n",
       "    <tr>\n",
       "      <th>2</th>\n",
       "      <td>group E</td>\n",
       "      <td>59</td>\n",
       "    </tr>\n",
       "    <tr>\n",
       "      <th>3</th>\n",
       "      <td>group B</td>\n",
       "      <td>77</td>\n",
       "    </tr>\n",
       "    <tr>\n",
       "      <th>4</th>\n",
       "      <td>group E</td>\n",
       "      <td>78</td>\n",
       "    </tr>\n",
       "  </tbody>\n",
       "</table>\n",
       "</div>"
      ],
      "text/plain": [
       "  race_ethnicity  math_score\n",
       "0        group A          67\n",
       "1        group D          40\n",
       "2        group E          59\n",
       "3        group B          77\n",
       "4        group E          78"
      ]
     },
     "execution_count": 42,
     "metadata": {},
     "output_type": "execute_result"
    }
   ],
   "source": [
    "data1 = df['race_ethnicity'].head()\n",
    "data2= df['math_score'].head()\n",
    "conc_data_col = pd.concat([data1,data2],axis =1) # axis = 1 : adds dataframes in column\n",
    "conc_data_col"
   ]
  },
  {
   "cell_type": "markdown",
   "id": "17785386",
   "metadata": {
    "papermill": {
     "duration": 0.023542,
     "end_time": "2022-10-26T09:18:38.652743",
     "exception": false,
     "start_time": "2022-10-26T09:18:38.629201",
     "status": "completed"
    },
    "tags": []
   },
   "source": [
    "### race_ethnicity-math_score   \n",
    "            &\n",
    "### race_ethnicity-reading_score \n",
    "            &\n",
    "### race_ethnicity-writing_score"
   ]
  },
  {
   "cell_type": "code",
   "execution_count": 43,
   "id": "1c5a1c0f",
   "metadata": {
    "execution": {
     "iopub.execute_input": "2022-10-26T09:18:38.703096Z",
     "iopub.status.busy": "2022-10-26T09:18:38.701983Z",
     "iopub.status.idle": "2022-10-26T09:18:38.712610Z",
     "shell.execute_reply": "2022-10-26T09:18:38.711455Z"
    },
    "papermill": {
     "duration": 0.038108,
     "end_time": "2022-10-26T09:18:38.715074",
     "exception": false,
     "start_time": "2022-10-26T09:18:38.676966",
     "status": "completed"
    },
    "tags": []
   },
   "outputs": [
    {
     "data": {
      "text/plain": [
       "race_ethnicity\n",
       "group A    65.215190\n",
       "group B    63.170732\n",
       "group C    63.130031\n",
       "group D    69.267176\n",
       "group E    74.465649\n",
       "Name: math_score, dtype: float64"
      ]
     },
     "execution_count": 43,
     "metadata": {},
     "output_type": "execute_result"
    }
   ],
   "source": [
    "a=df.groupby([\"race_ethnicity\"])[\"math_score\"].mean()\n",
    "a"
   ]
  },
  {
   "cell_type": "code",
   "execution_count": 44,
   "id": "95ae67de",
   "metadata": {
    "execution": {
     "iopub.execute_input": "2022-10-26T09:18:38.767252Z",
     "iopub.status.busy": "2022-10-26T09:18:38.766497Z",
     "iopub.status.idle": "2022-10-26T09:18:39.159141Z",
     "shell.execute_reply": "2022-10-26T09:18:39.157892Z"
    },
    "papermill": {
     "duration": 0.420777,
     "end_time": "2022-10-26T09:18:39.161805",
     "exception": false,
     "start_time": "2022-10-26T09:18:38.741028",
     "status": "completed"
    },
    "tags": []
   },
   "outputs": [
    {
     "data": {
      "image/png": "[encoded data removed]",
      "text/plain": [
       "<Figure size 360x360 with 1 Axes>"
      ]
     },
     "metadata": {
      "needs_background": "light"
     },
     "output_type": "display_data"
    }
   ],
   "source": [
    "sns.catplot(kind=\"bar\",x=\"race_ethnicity\",y=\"math_score\",data=df,palette=\"pastel\")\n",
    "plt.show()"
   ]
  },
  {
   "cell_type": "code",
   "execution_count": 45,
   "id": "82bc862c",
   "metadata": {
    "execution": {
     "iopub.execute_input": "2022-10-26T09:18:39.211562Z",
     "iopub.status.busy": "2022-10-26T09:18:39.210867Z",
     "iopub.status.idle": "2022-10-26T09:18:39.220962Z",
     "shell.execute_reply": "2022-10-26T09:18:39.219758Z"
    },
    "papermill": {
     "duration": 0.038183,
     "end_time": "2022-10-26T09:18:39.223456",
     "exception": false,
     "start_time": "2022-10-26T09:18:39.185273",
     "status": "completed"
    },
    "tags": []
   },
   "outputs": [
    {
     "data": {
      "text/plain": [
       "race_ethnicity\n",
       "group A    68.556962\n",
       "group B    67.102439\n",
       "group C    66.383901\n",
       "group D    72.087786\n",
       "group E    72.526718\n",
       "Name: reading_score, dtype: float64"
      ]
     },
     "execution_count": 45,
     "metadata": {},
     "output_type": "execute_result"
    }
   ],
   "source": [
    "df.groupby([\"race_ethnicity\"])[\"reading_score\"].mean()"
   ]
  },
  {
   "cell_type": "code",
   "execution_count": 46,
   "id": "4cafef7d",
   "metadata": {
    "execution": {
     "iopub.execute_input": "2022-10-26T09:18:39.273168Z",
     "iopub.status.busy": "2022-10-26T09:18:39.272496Z",
     "iopub.status.idle": "2022-10-26T09:18:39.657557Z",
     "shell.execute_reply": "2022-10-26T09:18:39.656292Z"
    },
    "papermill": {
     "duration": 0.413014,
     "end_time": "2022-10-26T09:18:39.660090",
     "exception": false,
     "start_time": "2022-10-26T09:18:39.247076",
     "status": "completed"
    },
    "tags": []
   },
   "outputs": [
    {
     "data": {
      "image/png": "[encoded data removed]",
      "text/plain": [
       "<Figure size 360x360 with 1 Axes>"
      ]
     },
     "metadata": {
      "needs_background": "light"
     },
     "output_type": "display_data"
    }
   ],
   "source": [
    "sns.catplot(kind=\"bar\",x=\"race_ethnicity\",y=\"reading_score\",data=df,palette=\"terrain\")\n",
    "plt.show()"
   ]
  },
  {
   "cell_type": "code",
   "execution_count": 47,
   "id": "918cf29b",
   "metadata": {
    "execution": {
     "iopub.execute_input": "2022-10-26T09:18:39.711118Z",
     "iopub.status.busy": "2022-10-26T09:18:39.710428Z",
     "iopub.status.idle": "2022-10-26T09:18:39.721503Z",
     "shell.execute_reply": "2022-10-26T09:18:39.720212Z"
    },
    "papermill": {
     "duration": 0.040291,
     "end_time": "2022-10-26T09:18:39.724548",
     "exception": false,
     "start_time": "2022-10-26T09:18:39.684257",
     "status": "completed"
    },
    "tags": []
   },
   "outputs": [
    {
     "data": {
      "text/plain": [
       "race_ethnicity\n",
       "group A    66.974684\n",
       "group B    65.736585\n",
       "group C    64.523220\n",
       "group D    72.259542\n",
       "group E    70.213740\n",
       "Name: writing_score, dtype: float64"
      ]
     },
     "execution_count": 47,
     "metadata": {},
     "output_type": "execute_result"
    }
   ],
   "source": [
    "df.groupby([\"race_ethnicity\"])[\"writing_score\"].mean()"
   ]
  },
  {
   "cell_type": "code",
   "execution_count": 48,
   "id": "bc933d17",
   "metadata": {
    "execution": {
     "iopub.execute_input": "2022-10-26T09:18:39.776353Z",
     "iopub.status.busy": "2022-10-26T09:18:39.775684Z",
     "iopub.status.idle": "2022-10-26T09:18:40.157717Z",
     "shell.execute_reply": "2022-10-26T09:18:40.156465Z"
    },
    "papermill": {
     "duration": 0.411081,
     "end_time": "2022-10-26T09:18:40.160370",
     "exception": false,
     "start_time": "2022-10-26T09:18:39.749289",
     "status": "completed"
    },
    "tags": []
   },
   "outputs": [
    {
     "data": {
      "image/png": "[encoded data removed]",
      "text/plain": [
       "<Figure size 360x360 with 1 Axes>"
      ]
     },
     "metadata": {
      "needs_background": "light"
     },
     "output_type": "display_data"
    }
   ],
   "source": [
    "sns.catplot(kind=\"bar\",x=\"race_ethnicity\",y=\"writing_score\",data=df,palette=\"PuRd\")\n",
    "plt.show()"
   ]
  },
  {
   "cell_type": "code",
   "execution_count": null,
   "id": "8bb1cdba",
   "metadata": {
    "papermill": {
     "duration": 0.024084,
     "end_time": "2022-10-26T09:18:40.208590",
     "exception": false,
     "start_time": "2022-10-26T09:18:40.184506",
     "status": "completed"
    },
    "tags": []
   },
   "outputs": [],
   "source": []
  }
 ],
 "metadata": {
  "kernelspec": {
   "display_name": "Python 3",
   "language": "python",
   "name": "python3"
  },
  "language_info": {
   "codemirror_mode": {
    "name": "ipython",
    "version": 3
   },
   "file_extension": ".py",
   "mimetype": "text/x-python",
   "name": "python",
   "nbconvert_exporter": "python",
   "pygments_lexer": "ipython3",
   "version": "3.7.12"
  },
  "papermill": {
   "default_parameters": {},
   "duration": 20.961794,
   "end_time": "2022-10-26T09:18:41.056778",
   "environment_variables": {},
   "exception": null,
   "input_path": "__notebook__.ipynb",
   "output_path": "__notebook__.ipynb",
   "parameters": {},
   "start_time": "2022-10-26T09:18:20.094984",
   "version": "2.3.4"
  }
 },
 "nbformat": 4,
 "nbformat_minor": 5
}
